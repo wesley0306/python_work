{
 "cells": [
  {
   "cell_type": "code",
   "execution_count": null,
   "metadata": {},
   "outputs": [],
   "source": [
    "import random\n",
    "\n",
    "print('請先輸入獎品名稱 (獎品不能重複)，數量不限，輸入完成後，請輸入ok (注意大小寫)。\\n接著請輸入參加抽獎的粉絲人數。')\n",
    "prize=0\n",
    "prizes=[]\n",
    "result=[]\n",
    "\n",
    "n=1\n",
    "while True:\n",
    "    prize=input('請輸入第'+str(n)+'項獎品名稱：')\n",
    "    if prize == 'ok':\n",
    "        break\n",
    "    else:        \n",
    "        prizes.append(prize)\n",
    "    n+=1\n",
    "\n",
    "while True:\n",
    "    fan=input('請輸入參加抽獎的粉絲人數：')\n",
    "    if fan.isdecimal() and fan != '0':     \n",
    "        participant=int(fan)\n",
    "        print('抽獎開始，以下是這次的獎品列表：\\n',prizes)\n",
    "        print('這次參加抽獎的人數共有',participant,'人')\n",
    "        for p in prizes:\n",
    "            if len(result) == participant:\n",
    "                print('已無參加者，結束抽獎')\n",
    "                break\n",
    "\n",
    "            while True:\n",
    "                draw=random.randint(1,participant)\n",
    "                if(draw not in result):\n",
    "                    break\n",
    "            result.append(draw)           \n",
    "            print(draw,'號參加者','獲得', p)\n",
    "        print('恭喜所有得獎者，沒抽到的人也不要灰心，明年還有機會。\\n這次的聖誕抽獎活動到此結束，感謝所有粉絲的熱情參與。')\n",
    "        break\n",
    "        \n",
    "    else:\n",
    "        print('輸入錯誤，請重新操作一次')\n",
    "\n"
   ]
  },
  {
   "cell_type": "code",
   "execution_count": null,
   "metadata": {},
   "outputs": [],
   "source": []
  }
 ],
 "metadata": {
  "kernelspec": {
   "display_name": "Python 3",
   "language": "python",
   "name": "python3"
  }
 },
 "nbformat": 4,
 "nbformat_minor": 2
}
