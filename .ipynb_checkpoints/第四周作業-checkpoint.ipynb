{
 "cells": [
  {
   "cell_type": "code",
   "execution_count": 18,
   "metadata": {},
   "outputs": [],
   "source": [
    "%matplotlib inline\n",
    "\n",
    "import numpy as np\n",
    "import matplotlib.pyplot as plt\n",
    "from ipywidgets import interact\n",
    "import pandas as pd"
   ]
  },
  {
   "cell_type": "code",
   "execution_count": 2,
   "metadata": {},
   "outputs": [],
   "source": [
    "from tensorflow.keras.datasets import fashion_mnist"
   ]
  },
  {
   "cell_type": "code",
   "execution_count": 3,
   "metadata": {},
   "outputs": [],
   "source": [
    "(x_train, y_train), (x_test, y_test) = fashion_mnist.load_data()"
   ]
  },
  {
   "cell_type": "code",
   "execution_count": 4,
   "metadata": {},
   "outputs": [],
   "source": [
    "class_names = ['T-shirt/top', 'Trouser', 'Pullover', 'Dress', 'Coat',\n",
    "               'Sandal', 'Shirt', 'Sneaker', 'Bag', 'Ankle boot']"
   ]
  },
  {
   "cell_type": "code",
   "execution_count": 5,
   "metadata": {},
   "outputs": [
    {
     "name": "stdout",
     "output_type": "stream",
     "text": [
      "60000\n",
      "60000\n",
      "10000\n",
      "10000\n"
     ]
    }
   ],
   "source": [
    "print(len(x_train))\n",
    "print(len(y_train))\n",
    "print(len(x_test))\n",
    "print(len(y_test))"
   ]
  },
  {
   "cell_type": "code",
   "execution_count": 6,
   "metadata": {},
   "outputs": [
    {
     "data": {
      "text/plain": [
       "1"
      ]
     },
     "execution_count": 6,
     "metadata": {},
     "output_type": "execute_result"
    }
   ],
   "source": [
    "y_train[102]"
   ]
  },
  {
   "cell_type": "code",
   "execution_count": 7,
   "metadata": {},
   "outputs": [
    {
     "data": {
      "text/plain": [
       "'Bag'"
      ]
     },
     "execution_count": 7,
     "metadata": {},
     "output_type": "execute_result"
    }
   ],
   "source": [
    "class_names[8]"
   ]
  },
  {
   "cell_type": "markdown",
   "metadata": {},
   "source": [
    "### 為啥y_train[n]只會出現0~9?"
   ]
  },
  {
   "cell_type": "code",
   "execution_count": 8,
   "metadata": {},
   "outputs": [],
   "source": [
    "def select(i):\n",
    "    #np.random.randint(0,len(y_train))\n",
    "    print('這是', class_names[y_train[i]])\n",
    "    plt.imshow(x_train[i], cmap='Blues'); "
   ]
  },
  {
   "cell_type": "code",
   "execution_count": 9,
   "metadata": {},
   "outputs": [
    {
     "data": {
      "application/vnd.jupyter.widget-view+json": {
       "model_id": "d88121b7084e4244a853a7efd89171cb",
       "version_major": 2,
       "version_minor": 0
      },
      "text/plain": [
       "interactive(children=(IntSlider(value=30000, description='i', max=60000), Output()), _dom_classes=('widget-int…"
      ]
     },
     "metadata": {},
     "output_type": "display_data"
    },
    {
     "data": {
      "text/plain": [
       "<function __main__.select(i)>"
      ]
     },
     "execution_count": 9,
     "metadata": {},
     "output_type": "execute_result"
    }
   ],
   "source": [
    "interact(select,i=(0,len(y_train)))"
   ]
  },
  {
   "cell_type": "code",
   "execution_count": 10,
   "metadata": {},
   "outputs": [
    {
     "data": {
      "image/png": "[encoded data removed]",
      "text/plain": [
       "<Figure size 432x288 with 5 Axes>"
      ]
     },
     "metadata": {},
     "output_type": "display_data"
    }
   ],
   "source": [
    "pick = np.random.choice(60000, 5, replace=False)\n",
    "\n",
    "for i in range(5):\n",
    "    n = pick[i]\n",
    "    ax = plt.subplot(151+i)\n",
    "    ax.set_xticks([])\n",
    "    ax.set_yticks([])\n",
    "    ax.set_title(class_names[y_train[n]], fontsize=10)\n",
    "    plt.imshow(x_train[n], cmap='copper')  "
   ]
  },
  {
   "cell_type": "markdown",
   "metadata": {},
   "source": [
    "### 將圖片中的像素正規化 range(0, 255) → range(0, 1)，最大值=255"
   ]
  },
  {
   "cell_type": "code",
   "execution_count": 11,
   "metadata": {},
   "outputs": [],
   "source": [
    "x_train=x_train.reshape(-1,784)/255\n",
    "x_test=x_test.reshape(-1,784)/255"
   ]
  },
  {
   "cell_type": "markdown",
   "metadata": {},
   "source": [
    "### one-hot coding"
   ]
  },
  {
   "cell_type": "code",
   "execution_count": 12,
   "metadata": {},
   "outputs": [],
   "source": [
    "from tensorflow.keras.utils import to_categorical\n",
    "y_train = to_categorical(y_train,10)\n",
    "y_test = to_categorical(y_test,10)\n",
    "#y_train[0]"
   ]
  },
  {
   "cell_type": "code",
   "execution_count": 13,
   "metadata": {},
   "outputs": [],
   "source": [
    "from tensorflow.keras.models import Sequential\n",
    "from tensorflow.keras.layers import Dense\n",
    "from tensorflow.keras.optimizers import SGD"
   ]
  },
  {
   "cell_type": "code",
   "execution_count": 14,
   "metadata": {},
   "outputs": [],
   "source": [
    "model = Sequential()\n",
    "model.add(Dense(128,input_dim=784,activation = 'relu'))\n",
    "model.add(Dense(32,activation = 'relu'))\n",
    "model.add(Dense(10,activation = 'softmax'))# softmax: 讓輸出全部介於0~1之間，而且加起來等於1 機率加總為1\n",
    "model.compile(loss='mse',optimizer=SGD(lr=0.087),metrics=['accuracy'])"
   ]
  },
  {
   "cell_type": "code",
   "execution_count": 15,
   "metadata": {},
   "outputs": [
    {
     "name": "stdout",
     "output_type": "stream",
     "text": [
      "Model: \"sequential\"\n",
      "_________________________________________________________________\n",
      "Layer (type)                 Output Shape              Param #   \n",
      "=================================================================\n",
      "dense (Dense)                (None, 128)               100480    \n",
      "_________________________________________________________________\n",
      "dense_1 (Dense)              (None, 32)                4128      \n",
      "_________________________________________________________________\n",
      "dense_2 (Dense)              (None, 10)                330       \n",
      "=================================================================\n",
      "Total params: 104,938\n",
      "Trainable params: 104,938\n",
      "Non-trainable params: 0\n",
      "_________________________________________________________________\n"
     ]
    }
   ],
   "source": [
    "model.summary()"
   ]
  },
  {
   "cell_type": "code",
   "execution_count": 27,
   "metadata": {},
   "outputs": [
    {
     "name": "stdout",
     "output_type": "stream",
     "text": [
      "Train on 60000 samples\n",
      "Epoch 1/40\n",
      "60000/60000 [==============================] - 2s 33us/sample - loss: 0.0183 - accuracy: 0.8786\n",
      "Epoch 2/40\n",
      "60000/60000 [==============================] - 2s 33us/sample - loss: 0.0182 - accuracy: 0.8787\n",
      "Epoch 3/40\n",
      "60000/60000 [==============================] - 2s 34us/sample - loss: 0.0181 - accuracy: 0.8793\n",
      "Epoch 4/40\n",
      "60000/60000 [==============================] - 2s 39us/sample - loss: 0.0180 - accuracy: 0.8810\n",
      "Epoch 5/40\n",
      "60000/60000 [==============================] - 2s 39us/sample - loss: 0.0179 - accuracy: 0.8816\n",
      "Epoch 6/40\n",
      "60000/60000 [==============================] - 2s 37us/sample - loss: 0.0178 - accuracy: 0.8819\n",
      "Epoch 7/40\n",
      "60000/60000 [==============================] - 2s 33us/sample - loss: 0.0177 - accuracy: 0.8826\n",
      "Epoch 8/40\n",
      "60000/60000 [==============================] - 2s 36us/sample - loss: 0.0176 - accuracy: 0.8835\n",
      "Epoch 9/40\n",
      "60000/60000 [==============================] - 2s 33us/sample - loss: 0.0175 - accuracy: 0.8845\n",
      "Epoch 10/40\n",
      "60000/60000 [==============================] - 2s 33us/sample - loss: 0.0174 - accuracy: 0.8843\n",
      "Epoch 11/40\n",
      "60000/60000 [==============================] - 2s 32us/sample - loss: 0.0173 - accuracy: 0.8842\n",
      "Epoch 12/40\n",
      "60000/60000 [==============================] - 2s 32us/sample - loss: 0.0172 - accuracy: 0.8856\n",
      "Epoch 13/40\n",
      "60000/60000 [==============================] - 2s 32us/sample - loss: 0.0172 - accuracy: 0.8870\n",
      "Epoch 14/40\n",
      "60000/60000 [==============================] - 2s 32us/sample - loss: 0.0171 - accuracy: 0.8872\n",
      "Epoch 15/40\n",
      "60000/60000 [==============================] - 2s 31us/sample - loss: 0.0170 - accuracy: 0.8883\n",
      "Epoch 16/40\n",
      "60000/60000 [==============================] - 2s 32us/sample - loss: 0.0169 - accuracy: 0.8877\n",
      "Epoch 17/40\n",
      "60000/60000 [==============================] - 2s 32us/sample - loss: 0.0169 - accuracy: 0.8879\n",
      "Epoch 18/40\n",
      "60000/60000 [==============================] - 2s 33us/sample - loss: 0.0168 - accuracy: 0.8900\n",
      "Epoch 19/40\n",
      "60000/60000 [==============================] - 2s 33us/sample - loss: 0.0167 - accuracy: 0.8891\n",
      "Epoch 20/40\n",
      "60000/60000 [==============================] - 2s 32us/sample - loss: 0.0167 - accuracy: 0.8904\n",
      "Epoch 21/40\n",
      "60000/60000 [==============================] - 2s 32us/sample - loss: 0.0166 - accuracy: 0.8904\n",
      "Epoch 22/40\n",
      "60000/60000 [==============================] - 2s 31us/sample - loss: 0.0165 - accuracy: 0.8913\n",
      "Epoch 23/40\n",
      "60000/60000 [==============================] - 2s 32us/sample - loss: 0.0164 - accuracy: 0.8922\n",
      "Epoch 24/40\n",
      "60000/60000 [==============================] - 2s 32us/sample - loss: 0.0164 - accuracy: 0.8921\n",
      "Epoch 25/40\n",
      "60000/60000 [==============================] - 2s 32us/sample - loss: 0.0163 - accuracy: 0.8924\n",
      "Epoch 26/40\n",
      "60000/60000 [==============================] - 2s 32us/sample - loss: 0.0163 - accuracy: 0.8927\n",
      "Epoch 27/40\n",
      "60000/60000 [==============================] - 2s 32us/sample - loss: 0.0162 - accuracy: 0.8931\n",
      "Epoch 28/40\n",
      "60000/60000 [==============================] - 2s 32us/sample - loss: 0.0161 - accuracy: 0.8934\n",
      "Epoch 29/40\n",
      "60000/60000 [==============================] - 2s 32us/sample - loss: 0.0160 - accuracy: 0.8947\n",
      "Epoch 30/40\n",
      "60000/60000 [==============================] - 2s 31us/sample - loss: 0.0160 - accuracy: 0.8941\n",
      "Epoch 31/40\n",
      "60000/60000 [==============================] - 2s 32us/sample - loss: 0.0160 - accuracy: 0.8950\n",
      "Epoch 32/40\n",
      "60000/60000 [==============================] - 2s 32us/sample - loss: 0.0159 - accuracy: 0.8945\n",
      "Epoch 33/40\n",
      "60000/60000 [==============================] - 2s 32us/sample - loss: 0.0158 - accuracy: 0.8962\n",
      "Epoch 34/40\n",
      "60000/60000 [==============================] - 2s 32us/sample - loss: 0.0158 - accuracy: 0.8962\n",
      "Epoch 35/40\n",
      "60000/60000 [==============================] - 2s 33us/sample - loss: 0.0157 - accuracy: 0.8967\n",
      "Epoch 36/40\n",
      "60000/60000 [==============================] - 2s 32us/sample - loss: 0.0157 - accuracy: 0.8960\n",
      "Epoch 37/40\n",
      "60000/60000 [==============================] - 2s 32us/sample - loss: 0.0156 - accuracy: 0.8978\n",
      "Epoch 38/40\n",
      "60000/60000 [==============================] - 2s 32us/sample - loss: 0.0155 - accuracy: 0.8985\n",
      "Epoch 39/40\n",
      "60000/60000 [==============================] - 2s 32us/sample - loss: 0.0155 - accuracy: 0.8986\n",
      "Epoch 40/40\n",
      "60000/60000 [==============================] - 2s 32us/sample - loss: 0.0154 - accuracy: 0.8991\n"
     ]
    }
   ],
   "source": [
    "A = model.fit(x_train,y_train,batch_size=100,epochs=40)"
   ]
  },
  {
   "cell_type": "code",
   "execution_count": null,
   "metadata": {},
   "outputs": [],
   "source": []
  },
  {
   "cell_type": "code",
   "execution_count": 17,
   "metadata": {},
   "outputs": [],
   "source": [
    "result = model.predict_classes (x_test)"
   ]
  },
  {
   "cell_type": "code",
   "execution_count": 23,
   "metadata": {},
   "outputs": [
    {
     "name": "stdout",
     "output_type": "stream",
     "text": [
      "9\n"
     ]
    },
    {
     "data": {
      "text/plain": [
       "<matplotlib.image.AxesImage at 0x233fd3c1bc8>"
      ]
     },
     "execution_count": 23,
     "metadata": {},
     "output_type": "execute_result"
    },
    {
     "data": {
      "image/png": "[encoded data removed]",
      "text/plain": [
       "<Figure size 432x288 with 1 Axes>"
      ]
     },
     "metadata": {
      "needs_background": "light"
     },
     "output_type": "display_data"
    }
   ],
   "source": [
    "print(result[0])\n",
    "plt.imshow(x_test[0].reshape(28,28),cmap=\"summer\")"
   ]
  },
  {
   "cell_type": "code",
   "execution_count": 25,
   "metadata": {},
   "outputs": [
    {
     "name": "stdout",
     "output_type": "stream",
     "text": [
      "10000/10000 [==============================] - 0s 48us/sample - loss: 0.0207 - accuracy: 0.8576\n"
     ]
    },
    {
     "data": {
      "text/plain": [
       "[0.020685151217877864, 0.8576]"
      ]
     },
     "execution_count": 25,
     "metadata": {},
     "output_type": "execute_result"
    }
   ],
   "source": [
    "model.evaluate(x_test,y_test)"
   ]
  },
  {
   "cell_type": "markdown",
   "metadata": {},
   "source": [
    "### 想學習LEARNING CURVE的寫法"
   ]
  },
  {
   "cell_type": "code",
   "execution_count": null,
   "metadata": {},
   "outputs": [],
   "source": []
  }
 ],
 "metadata": {
  "kernelspec": {
   "display_name": "Python 3",
   "language": "python",
   "name": "python3"
  },
  "language_info": {
   "codemirror_mode": {
    "name": "ipython",
    "version": 3
   },
   "file_extension": ".py",
   "mimetype": "text/x-python",
   "name": "python",
   "nbconvert_exporter": "python",
   "pygments_lexer": "ipython3",
   "version": "3.7.4"
  }
 },
 "nbformat": 4,
 "nbformat_minor": 2
}
